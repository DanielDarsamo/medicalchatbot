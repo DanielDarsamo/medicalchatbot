{
 "cells": [
  {
   "cell_type": "code",
   "execution_count": 365,
   "metadata": {},
   "outputs": [
    {
     "name": "stdout",
     "output_type": "stream",
     "text": [
      "ok\n"
     ]
    }
   ],
   "source": [
    "print(\"ok\")"
   ]
  },
  {
   "cell_type": "code",
   "execution_count": 366,
   "metadata": {},
   "outputs": [
    {
     "data": {
      "text/plain": [
       "'c:\\\\'"
      ]
     },
     "execution_count": 366,
     "metadata": {},
     "output_type": "execute_result"
    }
   ],
   "source": [
    "%pwd"
   ]
  },
  {
   "cell_type": "code",
   "execution_count": 355,
   "metadata": {},
   "outputs": [],
   "source": [
    "import os\n",
    "os.chdir(\"../\")"
   ]
  },
  {
   "cell_type": "code",
   "execution_count": 357,
   "metadata": {},
   "outputs": [
    {
     "data": {
      "text/plain": [
       "'c:\\\\'"
      ]
     },
     "execution_count": 357,
     "metadata": {},
     "output_type": "execute_result"
    }
   ],
   "source": [
    "%pwd"
   ]
  },
  {
   "cell_type": "code",
   "execution_count": 358,
   "metadata": {},
   "outputs": [],
   "source": [
    "from langchain.document_loaders import PyPDFLoader, DirectoryLoader\n",
    "from langchain.text_splitter import RecursiveCharacterTextSplitter"
   ]
  },
  {
   "cell_type": "code",
   "execution_count": 359,
   "metadata": {},
   "outputs": [],
   "source": [
    "def load_pdf_file(data):\n",
    "    loader= DirectoryLoader(data,\n",
    "                            glob=\"*.pdf\",\n",
    "                            loader_cls=PyPDFLoader)\n",
    "    \n",
    "    documents=loader.load()\n",
    "\n",
    "    return documents"
   ]
  },
  {
   "cell_type": "code",
   "execution_count": 367,
   "metadata": {},
   "outputs": [],
   "source": [
    "os.chdir('C:/Users/Daniel/Documents/Repos/medicalchatbot')\n"
   ]
  },
  {
   "cell_type": "code",
   "execution_count": 368,
   "metadata": {},
   "outputs": [
    {
     "name": "stderr",
     "output_type": "stream",
     "text": [
      "DEBUG:langchain_community.document_loaders.directory:Processing file: Data\\Medical_book.pdf\n",
      "DEBUG:httpcore.connection:close.started\n",
      "DEBUG:httpcore.connection:close.complete\n"
     ]
    }
   ],
   "source": [
    "extracted_data=load_pdf_file(data='Data/')"
   ]
  },
  {
   "cell_type": "code",
   "execution_count": 16,
   "metadata": {},
   "outputs": [],
   "source": [
    "#extracted_data"
   ]
  },
  {
   "cell_type": "code",
   "execution_count": 369,
   "metadata": {},
   "outputs": [],
   "source": [
    "def text_split (extracted_data):\n",
    "    text_splitter=RecursiveCharacterTextSplitter(chunk_size=500, chunk_overlap=20)\n",
    "    text_chunks=text_splitter.split_documents(extracted_data)\n",
    "    return text_chunks\n"
   ]
  },
  {
   "cell_type": "code",
   "execution_count": 370,
   "metadata": {},
   "outputs": [
    {
     "name": "stdout",
     "output_type": "stream",
     "text": [
      "Length of text chunks 6970\n"
     ]
    }
   ],
   "source": [
    "text_chunks=text_split(extracted_data)\n",
    "print(\"Length of text chunks\", len(text_chunks))"
   ]
  },
  {
   "cell_type": "code",
   "execution_count": 371,
   "metadata": {},
   "outputs": [],
   "source": [
    "#text_chunks\n"
   ]
  },
  {
   "cell_type": "code",
   "execution_count": 372,
   "metadata": {},
   "outputs": [],
   "source": [
    "from langchain.embeddings import HuggingFaceEmbeddings"
   ]
  },
  {
   "cell_type": "code",
   "execution_count": 373,
   "metadata": {},
   "outputs": [],
   "source": [
    "def download_hugging_face_embeddings():\n",
    "    embeddings=HuggingFaceEmbeddings(model_name='sentence-transformers/all-MiniLM-L6-v2')\n",
    "    return embeddings"
   ]
  },
  {
   "cell_type": "code",
   "execution_count": 374,
   "metadata": {},
   "outputs": [
    {
     "name": "stderr",
     "output_type": "stream",
     "text": [
      "INFO:sentence_transformers.SentenceTransformer:Use pytorch device_name: cpu\n",
      "INFO:sentence_transformers.SentenceTransformer:Load pretrained SentenceTransformer: sentence-transformers/all-MiniLM-L6-v2\n"
     ]
    }
   ],
   "source": [
    "embeddings=download_hugging_face_embeddings()"
   ]
  },
  {
   "cell_type": "code",
   "execution_count": 375,
   "metadata": {},
   "outputs": [
    {
     "name": "stdout",
     "output_type": "stream",
     "text": [
      "Length 384\n"
     ]
    }
   ],
   "source": [
    "query_result =embeddings.embed_query(\"Hello World\")\n",
    "print(\"Length\",len(query_result))"
   ]
  },
  {
   "cell_type": "code",
   "execution_count": 376,
   "metadata": {},
   "outputs": [],
   "source": [
    "#query_result"
   ]
  },
  {
   "cell_type": "code",
   "execution_count": 377,
   "metadata": {},
   "outputs": [
    {
     "data": {
      "text/plain": [
       "True"
      ]
     },
     "execution_count": 377,
     "metadata": {},
     "output_type": "execute_result"
    }
   ],
   "source": [
    "from dotenv import load_dotenv\n",
    "load_dotenv()"
   ]
  },
  {
   "cell_type": "code",
   "execution_count": 378,
   "metadata": {},
   "outputs": [],
   "source": [
    "PINECONE_API_KEY=os.environ.get('PINECONE_API_KEY')\n",
    "GROQ_API_KEY=os.environ.get('GROQ_API_KEY')\n",
    "\n"
   ]
  },
  {
   "cell_type": "code",
   "execution_count": 379,
   "metadata": {},
   "outputs": [
    {
     "name": "stderr",
     "output_type": "stream",
     "text": [
      "INFO:pinecone_plugin_interface.logging:Discovering subpackages in _NamespacePath(['c:\\\\Users\\\\Daniel\\\\anaconda3\\\\envs\\\\medicalbot\\\\lib\\\\site-packages\\\\pinecone_plugins'])\n",
      "INFO:pinecone_plugin_interface.logging:Looking for plugins in pinecone_plugins.inference\n",
      "INFO:pinecone_plugin_interface.logging:Installing plugin inference into PineconeGRPC\n",
      "DEBUG:pinecone.core.openapi.shared.rest:response body: b'{\"name\":\"medicalchatbot2\",\"metric\":\"cosine\",\"dimension\":384,\"status\":{\"ready\":false,\"state\":\"Initializing\"},\"host\":\"medicalchatbot2-7hvbgxn.svc.aped-4627-b74a.pinecone.io\",\"spec\":{\"serverless\":{\"region\":\"us-east-1\",\"cloud\":\"aws\"}},\"deletion_protection\":\"disabled\"}'\n",
      "DEBUG:pinecone.core.openapi.shared.rest:response body: b'{\"name\":\"medicalchatbot2\",\"metric\":\"cosine\",\"dimension\":384,\"status\":{\"ready\":false,\"state\":\"Initializing\"},\"host\":\"medicalchatbot2-7hvbgxn.svc.aped-4627-b74a.pinecone.io\",\"spec\":{\"serverless\":{\"region\":\"us-east-1\",\"cloud\":\"aws\"}},\"deletion_protection\":\"disabled\"}'\n",
      "DEBUG:pinecone.core.openapi.shared.rest:response body: b'{\"name\":\"medicalchatbot2\",\"metric\":\"cosine\",\"dimension\":384,\"status\":{\"ready\":true,\"state\":\"Ready\"},\"host\":\"medicalchatbot2-7hvbgxn.svc.aped-4627-b74a.pinecone.io\",\"spec\":{\"serverless\":{\"region\":\"us-east-1\",\"cloud\":\"aws\"}},\"deletion_protection\":\"disabled\"}'\n"
     ]
    }
   ],
   "source": [
    "from pinecone.grpc import PineconeGRPC as Pinecone\n",
    "from pinecone import ServerlessSpec\n",
    "import os\n",
    "\n",
    "pc=Pinecone(api_key=PINECONE_API_KEY)\n",
    "\n",
    "index_name=\"medicalchatbot2\"\n",
    "\n",
    "pc.create_index(\n",
    "    name=index_name,\n",
    "    dimension=384,\n",
    "    metric=\"cosine\",\n",
    "    spec=ServerlessSpec(\n",
    "        cloud=\"aws\",\n",
    "        region=\"us-east-1\"\n",
    "    )\n",
    ")\n",
    "\n",
    "\n"
   ]
  },
  {
   "cell_type": "code",
   "execution_count": 380,
   "metadata": {},
   "outputs": [],
   "source": [
    "import os\n",
    "os.environ[\"PINECONE_API_KEY\"] = PINECONE_API_KEY\n",
    "os.environ[\"GROQ_API_KEY\"] = GROQ_API_KEY"
   ]
  },
  {
   "cell_type": "code",
   "execution_count": 381,
   "metadata": {},
   "outputs": [
    {
     "name": "stderr",
     "output_type": "stream",
     "text": [
      "INFO:pinecone_plugin_interface.logging:Discovering subpackages in _NamespacePath(['c:\\\\Users\\\\Daniel\\\\anaconda3\\\\envs\\\\medicalbot\\\\lib\\\\site-packages\\\\pinecone_plugins'])\n",
      "INFO:pinecone_plugin_interface.logging:Looking for plugins in pinecone_plugins.inference\n",
      "INFO:pinecone_plugin_interface.logging:Installing plugin inference into Pinecone\n",
      "DEBUG:pinecone.core.openapi.shared.rest:response body: b'{\"indexes\":[{\"name\":\"medicalchatbot2\",\"metric\":\"cosine\",\"dimension\":384,\"status\":{\"ready\":true,\"state\":\"Ready\"},\"host\":\"medicalchatbot2-7hvbgxn.svc.aped-4627-b74a.pinecone.io\",\"spec\":{\"serverless\":{\"region\":\"us-east-1\",\"cloud\":\"aws\"}},\"deletion_protection\":\"disabled\"}]}'\n",
      "INFO:pinecone_plugin_interface.logging:Discovering subpackages in _NamespacePath(['c:\\\\Users\\\\Daniel\\\\anaconda3\\\\envs\\\\medicalbot\\\\lib\\\\site-packages\\\\pinecone_plugins'])\n",
      "INFO:pinecone_plugin_interface.logging:Looking for plugins in pinecone_plugins.inference\n",
      "DEBUG:pinecone.core.openapi.shared.rest:response body: b'{\"upsertedCount\":32}'\n",
      "DEBUG:pinecone.core.openapi.shared.rest:response body: b'{\"upsertedCount\":32}'\n",
      "DEBUG:pinecone.core.openapi.shared.rest:response body: b'{\"upsertedCount\":32}'\n",
      "DEBUG:pinecone.core.openapi.shared.rest:response body: b'{\"upsertedCount\":32}'\n",
      "DEBUG:pinecone.core.openapi.shared.rest:response body: b'{\"upsertedCount\":32}'\n",
      "DEBUG:pinecone.core.openapi.shared.rest:response body: b'{\"upsertedCount\":32}'\n",
      "DEBUG:pinecone.core.openapi.shared.rest:response body: b'{\"upsertedCount\":32}'\n",
      "DEBUG:pinecone.core.openapi.shared.rest:response body: b'{\"upsertedCount\":32}'\n",
      "DEBUG:pinecone.core.openapi.shared.rest:response body: b'{\"upsertedCount\":32}'\n",
      "DEBUG:pinecone.core.openapi.shared.rest:response body: b'{\"upsertedCount\":32}'\n",
      "DEBUG:pinecone.core.openapi.shared.rest:response body: b'{\"upsertedCount\":32}'\n",
      "DEBUG:pinecone.core.openapi.shared.rest:response body: b'{\"upsertedCount\":32}'\n",
      "DEBUG:pinecone.core.openapi.shared.rest:response body: b'{\"upsertedCount\":32}'\n",
      "DEBUG:pinecone.core.openapi.shared.rest:response body: b'{\"upsertedCount\":32}'\n",
      "DEBUG:pinecone.core.openapi.shared.rest:response body: b'{\"upsertedCount\":32}'\n",
      "DEBUG:pinecone.core.openapi.shared.rest:response body: b'{\"upsertedCount\":32}'\n",
      "DEBUG:pinecone.core.openapi.shared.rest:response body: b'{\"upsertedCount\":32}'\n",
      "DEBUG:pinecone.core.openapi.shared.rest:response body: b'{\"upsertedCount\":32}'\n",
      "DEBUG:pinecone.core.openapi.shared.rest:response body: b'{\"upsertedCount\":32}'\n",
      "DEBUG:pinecone.core.openapi.shared.rest:response body: b'{\"upsertedCount\":32}'\n",
      "DEBUG:pinecone.core.openapi.shared.rest:response body: b'{\"upsertedCount\":32}'\n",
      "DEBUG:pinecone.core.openapi.shared.rest:response body: b'{\"upsertedCount\":32}'\n",
      "DEBUG:pinecone.core.openapi.shared.rest:response body: b'{\"upsertedCount\":32}'\n",
      "DEBUG:pinecone.core.openapi.shared.rest:response body: b'{\"upsertedCount\":32}'\n",
      "DEBUG:pinecone.core.openapi.shared.rest:response body: b'{\"upsertedCount\":32}'\n",
      "DEBUG:pinecone.core.openapi.shared.rest:response body: b'{\"upsertedCount\":32}'\n",
      "DEBUG:pinecone.core.openapi.shared.rest:response body: b'{\"upsertedCount\":32}'\n",
      "DEBUG:pinecone.core.openapi.shared.rest:response body: b'{\"upsertedCount\":32}'\n",
      "DEBUG:pinecone.core.openapi.shared.rest:response body: b'{\"upsertedCount\":32}'\n",
      "DEBUG:pinecone.core.openapi.shared.rest:response body: b'{\"upsertedCount\":8}'\n",
      "DEBUG:pinecone.core.openapi.shared.rest:response body: b'{\"upsertedCount\":32}'\n",
      "DEBUG:pinecone.core.openapi.shared.rest:response body: b'{\"upsertedCount\":32}'\n",
      "DEBUG:pinecone.core.openapi.shared.rest:response body: b'{\"upsertedCount\":32}'\n",
      "DEBUG:pinecone.core.openapi.shared.rest:response body: b'{\"upsertedCount\":32}'\n",
      "DEBUG:pinecone.core.openapi.shared.rest:response body: b'{\"upsertedCount\":32}'\n",
      "DEBUG:pinecone.core.openapi.shared.rest:response body: b'{\"upsertedCount\":32}'\n",
      "DEBUG:pinecone.core.openapi.shared.rest:response body: b'{\"upsertedCount\":32}'\n",
      "DEBUG:pinecone.core.openapi.shared.rest:response body: b'{\"upsertedCount\":32}'\n",
      "DEBUG:pinecone.core.openapi.shared.rest:response body: b'{\"upsertedCount\":32}'\n",
      "DEBUG:pinecone.core.openapi.shared.rest:response body: b'{\"upsertedCount\":32}'\n",
      "DEBUG:pinecone.core.openapi.shared.rest:response body: b'{\"upsertedCount\":32}'\n",
      "DEBUG:pinecone.core.openapi.shared.rest:response body: b'{\"upsertedCount\":32}'\n",
      "DEBUG:pinecone.core.openapi.shared.rest:response body: b'{\"upsertedCount\":32}'\n",
      "DEBUG:pinecone.core.openapi.shared.rest:response body: b'{\"upsertedCount\":32}'\n",
      "DEBUG:pinecone.core.openapi.shared.rest:response body: b'{\"upsertedCount\":32}'\n",
      "DEBUG:pinecone.core.openapi.shared.rest:response body: b'{\"upsertedCount\":32}'\n",
      "DEBUG:pinecone.core.openapi.shared.rest:response body: b'{\"upsertedCount\":32}'\n",
      "DEBUG:pinecone.core.openapi.shared.rest:response body: b'{\"upsertedCount\":32}'\n",
      "DEBUG:pinecone.core.openapi.shared.rest:response body: b'{\"upsertedCount\":32}'\n",
      "DEBUG:pinecone.core.openapi.shared.rest:response body: b'{\"upsertedCount\":32}'\n",
      "DEBUG:pinecone.core.openapi.shared.rest:response body: b'{\"upsertedCount\":32}'\n",
      "DEBUG:pinecone.core.openapi.shared.rest:response body: b'{\"upsertedCount\":32}'\n",
      "DEBUG:pinecone.core.openapi.shared.rest:response body: b'{\"upsertedCount\":32}'\n",
      "DEBUG:pinecone.core.openapi.shared.rest:response body: b'{\"upsertedCount\":32}'\n",
      "DEBUG:pinecone.core.openapi.shared.rest:response body: b'{\"upsertedCount\":32}'\n",
      "DEBUG:pinecone.core.openapi.shared.rest:response body: b'{\"upsertedCount\":32}'\n",
      "DEBUG:pinecone.core.openapi.shared.rest:response body: b'{\"upsertedCount\":32}'\n",
      "DEBUG:pinecone.core.openapi.shared.rest:response body: b'{\"upsertedCount\":32}'\n",
      "DEBUG:pinecone.core.openapi.shared.rest:response body: b'{\"upsertedCount\":32}'\n",
      "DEBUG:pinecone.core.openapi.shared.rest:response body: b'{\"upsertedCount\":32}'\n",
      "DEBUG:pinecone.core.openapi.shared.rest:response body: b'{\"upsertedCount\":8}'\n",
      "DEBUG:pinecone.core.openapi.shared.rest:response body: b'{\"upsertedCount\":32}'\n",
      "DEBUG:pinecone.core.openapi.shared.rest:response body: b'{\"upsertedCount\":32}'\n",
      "DEBUG:pinecone.core.openapi.shared.rest:response body: b'{\"upsertedCount\":32}'\n",
      "DEBUG:pinecone.core.openapi.shared.rest:response body: b'{\"upsertedCount\":32}'\n",
      "DEBUG:pinecone.core.openapi.shared.rest:response body: b'{\"upsertedCount\":32}'\n",
      "DEBUG:pinecone.core.openapi.shared.rest:response body: b'{\"upsertedCount\":32}'\n",
      "DEBUG:pinecone.core.openapi.shared.rest:response body: b'{\"upsertedCount\":32}'\n",
      "DEBUG:pinecone.core.openapi.shared.rest:response body: b'{\"upsertedCount\":32}'\n",
      "DEBUG:pinecone.core.openapi.shared.rest:response body: b'{\"upsertedCount\":32}'\n",
      "DEBUG:pinecone.core.openapi.shared.rest:response body: b'{\"upsertedCount\":32}'\n",
      "DEBUG:pinecone.core.openapi.shared.rest:response body: b'{\"upsertedCount\":32}'\n",
      "DEBUG:pinecone.core.openapi.shared.rest:response body: b'{\"upsertedCount\":32}'\n",
      "DEBUG:pinecone.core.openapi.shared.rest:response body: b'{\"upsertedCount\":32}'\n",
      "DEBUG:pinecone.core.openapi.shared.rest:response body: b'{\"upsertedCount\":32}'\n",
      "DEBUG:pinecone.core.openapi.shared.rest:response body: b'{\"upsertedCount\":32}'\n",
      "DEBUG:pinecone.core.openapi.shared.rest:response body: b'{\"upsertedCount\":32}'\n",
      "DEBUG:pinecone.core.openapi.shared.rest:response body: b'{\"upsertedCount\":32}'\n",
      "DEBUG:pinecone.core.openapi.shared.rest:response body: b'{\"upsertedCount\":32}'\n",
      "DEBUG:pinecone.core.openapi.shared.rest:response body: b'{\"upsertedCount\":32}'\n",
      "DEBUG:pinecone.core.openapi.shared.rest:response body: b'{\"upsertedCount\":32}'\n",
      "DEBUG:pinecone.core.openapi.shared.rest:response body: b'{\"upsertedCount\":32}'\n",
      "DEBUG:pinecone.core.openapi.shared.rest:response body: b'{\"upsertedCount\":32}'\n",
      "DEBUG:pinecone.core.openapi.shared.rest:response body: b'{\"upsertedCount\":32}'\n",
      "DEBUG:pinecone.core.openapi.shared.rest:response body: b'{\"upsertedCount\":32}'\n",
      "DEBUG:pinecone.core.openapi.shared.rest:response body: b'{\"upsertedCount\":32}'\n",
      "DEBUG:pinecone.core.openapi.shared.rest:response body: b'{\"upsertedCount\":32}'\n",
      "DEBUG:pinecone.core.openapi.shared.rest:response body: b'{\"upsertedCount\":32}'\n",
      "DEBUG:pinecone.core.openapi.shared.rest:response body: b'{\"upsertedCount\":32}'\n",
      "DEBUG:pinecone.core.openapi.shared.rest:response body: b'{\"upsertedCount\":32}'\n",
      "DEBUG:pinecone.core.openapi.shared.rest:response body: b'{\"upsertedCount\":32}'\n",
      "DEBUG:pinecone.core.openapi.shared.rest:response body: b'{\"upsertedCount\":32}'\n",
      "DEBUG:pinecone.core.openapi.shared.rest:response body: b'{\"upsertedCount\":32}'\n",
      "DEBUG:pinecone.core.openapi.shared.rest:response body: b'{\"upsertedCount\":8}'\n",
      "DEBUG:pinecone.core.openapi.shared.rest:response body: b'{\"upsertedCount\":32}'\n",
      "DEBUG:pinecone.core.openapi.shared.rest:response body: b'{\"upsertedCount\":32}'\n",
      "DEBUG:pinecone.core.openapi.shared.rest:response body: b'{\"upsertedCount\":32}'\n",
      "DEBUG:pinecone.core.openapi.shared.rest:response body: b'{\"upsertedCount\":32}'\n",
      "DEBUG:pinecone.core.openapi.shared.rest:response body: b'{\"upsertedCount\":32}'\n",
      "DEBUG:pinecone.core.openapi.shared.rest:response body: b'{\"upsertedCount\":32}'\n",
      "DEBUG:pinecone.core.openapi.shared.rest:response body: b'{\"upsertedCount\":32}'\n",
      "DEBUG:pinecone.core.openapi.shared.rest:response body: b'{\"upsertedCount\":32}'\n",
      "DEBUG:pinecone.core.openapi.shared.rest:response body: b'{\"upsertedCount\":32}'\n",
      "DEBUG:pinecone.core.openapi.shared.rest:response body: b'{\"upsertedCount\":32}'\n",
      "DEBUG:pinecone.core.openapi.shared.rest:response body: b'{\"upsertedCount\":32}'\n",
      "DEBUG:pinecone.core.openapi.shared.rest:response body: b'{\"upsertedCount\":32}'\n",
      "DEBUG:pinecone.core.openapi.shared.rest:response body: b'{\"upsertedCount\":32}'\n",
      "DEBUG:pinecone.core.openapi.shared.rest:response body: b'{\"upsertedCount\":32}'\n",
      "DEBUG:pinecone.core.openapi.shared.rest:response body: b'{\"upsertedCount\":32}'\n",
      "DEBUG:pinecone.core.openapi.shared.rest:response body: b'{\"upsertedCount\":32}'\n",
      "DEBUG:pinecone.core.openapi.shared.rest:response body: b'{\"upsertedCount\":32}'\n",
      "DEBUG:pinecone.core.openapi.shared.rest:response body: b'{\"upsertedCount\":32}'\n",
      "DEBUG:pinecone.core.openapi.shared.rest:response body: b'{\"upsertedCount\":32}'\n",
      "DEBUG:pinecone.core.openapi.shared.rest:response body: b'{\"upsertedCount\":32}'\n",
      "DEBUG:pinecone.core.openapi.shared.rest:response body: b'{\"upsertedCount\":32}'\n",
      "DEBUG:pinecone.core.openapi.shared.rest:response body: b'{\"upsertedCount\":32}'\n",
      "DEBUG:pinecone.core.openapi.shared.rest:response body: b'{\"upsertedCount\":32}'\n",
      "DEBUG:pinecone.core.openapi.shared.rest:response body: b'{\"upsertedCount\":32}'\n",
      "DEBUG:pinecone.core.openapi.shared.rest:response body: b'{\"upsertedCount\":32}'\n",
      "DEBUG:pinecone.core.openapi.shared.rest:response body: b'{\"upsertedCount\":32}'\n",
      "DEBUG:pinecone.core.openapi.shared.rest:response body: b'{\"upsertedCount\":32}'\n",
      "DEBUG:pinecone.core.openapi.shared.rest:response body: b'{\"upsertedCount\":32}'\n",
      "DEBUG:pinecone.core.openapi.shared.rest:response body: b'{\"upsertedCount\":32}'\n",
      "DEBUG:pinecone.core.openapi.shared.rest:response body: b'{\"upsertedCount\":32}'\n",
      "DEBUG:pinecone.core.openapi.shared.rest:response body: b'{\"upsertedCount\":32}'\n",
      "DEBUG:pinecone.core.openapi.shared.rest:response body: b'{\"upsertedCount\":8}'\n",
      "DEBUG:pinecone.core.openapi.shared.rest:response body: b'{\"upsertedCount\":32}'\n",
      "DEBUG:pinecone.core.openapi.shared.rest:response body: b'{\"upsertedCount\":32}'\n",
      "DEBUG:pinecone.core.openapi.shared.rest:response body: b'{\"upsertedCount\":32}'\n",
      "DEBUG:pinecone.core.openapi.shared.rest:response body: b'{\"upsertedCount\":32}'\n",
      "DEBUG:pinecone.core.openapi.shared.rest:response body: b'{\"upsertedCount\":32}'\n",
      "DEBUG:pinecone.core.openapi.shared.rest:response body: b'{\"upsertedCount\":32}'\n",
      "DEBUG:pinecone.core.openapi.shared.rest:response body: b'{\"upsertedCount\":32}'\n",
      "DEBUG:pinecone.core.openapi.shared.rest:response body: b'{\"upsertedCount\":32}'\n",
      "DEBUG:pinecone.core.openapi.shared.rest:response body: b'{\"upsertedCount\":32}'\n",
      "DEBUG:pinecone.core.openapi.shared.rest:response body: b'{\"upsertedCount\":32}'\n",
      "DEBUG:pinecone.core.openapi.shared.rest:response body: b'{\"upsertedCount\":32}'\n",
      "DEBUG:pinecone.core.openapi.shared.rest:response body: b'{\"upsertedCount\":32}'\n",
      "DEBUG:pinecone.core.openapi.shared.rest:response body: b'{\"upsertedCount\":32}'\n",
      "DEBUG:pinecone.core.openapi.shared.rest:response body: b'{\"upsertedCount\":32}'\n",
      "DEBUG:pinecone.core.openapi.shared.rest:response body: b'{\"upsertedCount\":32}'\n",
      "DEBUG:pinecone.core.openapi.shared.rest:response body: b'{\"upsertedCount\":32}'\n",
      "DEBUG:pinecone.core.openapi.shared.rest:response body: b'{\"upsertedCount\":32}'\n",
      "DEBUG:pinecone.core.openapi.shared.rest:response body: b'{\"upsertedCount\":32}'\n",
      "DEBUG:pinecone.core.openapi.shared.rest:response body: b'{\"upsertedCount\":32}'\n",
      "DEBUG:pinecone.core.openapi.shared.rest:response body: b'{\"upsertedCount\":32}'\n",
      "DEBUG:pinecone.core.openapi.shared.rest:response body: b'{\"upsertedCount\":32}'\n",
      "DEBUG:pinecone.core.openapi.shared.rest:response body: b'{\"upsertedCount\":32}'\n",
      "DEBUG:pinecone.core.openapi.shared.rest:response body: b'{\"upsertedCount\":32}'\n",
      "DEBUG:pinecone.core.openapi.shared.rest:response body: b'{\"upsertedCount\":32}'\n",
      "DEBUG:pinecone.core.openapi.shared.rest:response body: b'{\"upsertedCount\":32}'\n",
      "DEBUG:pinecone.core.openapi.shared.rest:response body: b'{\"upsertedCount\":32}'\n",
      "DEBUG:pinecone.core.openapi.shared.rest:response body: b'{\"upsertedCount\":32}'\n",
      "DEBUG:pinecone.core.openapi.shared.rest:response body: b'{\"upsertedCount\":32}'\n",
      "DEBUG:pinecone.core.openapi.shared.rest:response body: b'{\"upsertedCount\":32}'\n",
      "DEBUG:pinecone.core.openapi.shared.rest:response body: b'{\"upsertedCount\":32}'\n",
      "DEBUG:pinecone.core.openapi.shared.rest:response body: b'{\"upsertedCount\":32}'\n",
      "DEBUG:pinecone.core.openapi.shared.rest:response body: b'{\"upsertedCount\":32}'\n",
      "DEBUG:pinecone.core.openapi.shared.rest:response body: b'{\"upsertedCount\":8}'\n",
      "DEBUG:pinecone.core.openapi.shared.rest:response body: b'{\"upsertedCount\":32}'\n",
      "DEBUG:pinecone.core.openapi.shared.rest:response body: b'{\"upsertedCount\":32}'\n",
      "DEBUG:pinecone.core.openapi.shared.rest:response body: b'{\"upsertedCount\":32}'\n",
      "DEBUG:pinecone.core.openapi.shared.rest:response body: b'{\"upsertedCount\":32}'\n",
      "DEBUG:pinecone.core.openapi.shared.rest:response body: b'{\"upsertedCount\":32}'\n",
      "DEBUG:pinecone.core.openapi.shared.rest:response body: b'{\"upsertedCount\":32}'\n",
      "DEBUG:pinecone.core.openapi.shared.rest:response body: b'{\"upsertedCount\":32}'\n",
      "DEBUG:pinecone.core.openapi.shared.rest:response body: b'{\"upsertedCount\":32}'\n",
      "DEBUG:pinecone.core.openapi.shared.rest:response body: b'{\"upsertedCount\":32}'\n",
      "DEBUG:pinecone.core.openapi.shared.rest:response body: b'{\"upsertedCount\":32}'\n",
      "DEBUG:pinecone.core.openapi.shared.rest:response body: b'{\"upsertedCount\":32}'\n",
      "DEBUG:pinecone.core.openapi.shared.rest:response body: b'{\"upsertedCount\":32}'\n",
      "DEBUG:pinecone.core.openapi.shared.rest:response body: b'{\"upsertedCount\":32}'\n",
      "DEBUG:pinecone.core.openapi.shared.rest:response body: b'{\"upsertedCount\":32}'\n",
      "DEBUG:pinecone.core.openapi.shared.rest:response body: b'{\"upsertedCount\":32}'\n",
      "DEBUG:pinecone.core.openapi.shared.rest:response body: b'{\"upsertedCount\":32}'\n",
      "DEBUG:pinecone.core.openapi.shared.rest:response body: b'{\"upsertedCount\":32}'\n",
      "DEBUG:pinecone.core.openapi.shared.rest:response body: b'{\"upsertedCount\":32}'\n",
      "DEBUG:pinecone.core.openapi.shared.rest:response body: b'{\"upsertedCount\":32}'\n",
      "DEBUG:pinecone.core.openapi.shared.rest:response body: b'{\"upsertedCount\":32}'\n",
      "DEBUG:pinecone.core.openapi.shared.rest:response body: b'{\"upsertedCount\":32}'\n",
      "DEBUG:pinecone.core.openapi.shared.rest:response body: b'{\"upsertedCount\":32}'\n",
      "DEBUG:pinecone.core.openapi.shared.rest:response body: b'{\"upsertedCount\":32}'\n",
      "DEBUG:pinecone.core.openapi.shared.rest:response body: b'{\"upsertedCount\":32}'\n",
      "DEBUG:pinecone.core.openapi.shared.rest:response body: b'{\"upsertedCount\":32}'\n",
      "DEBUG:pinecone.core.openapi.shared.rest:response body: b'{\"upsertedCount\":32}'\n",
      "DEBUG:pinecone.core.openapi.shared.rest:response body: b'{\"upsertedCount\":32}'\n",
      "DEBUG:pinecone.core.openapi.shared.rest:response body: b'{\"upsertedCount\":32}'\n",
      "DEBUG:pinecone.core.openapi.shared.rest:response body: b'{\"upsertedCount\":32}'\n",
      "DEBUG:pinecone.core.openapi.shared.rest:response body: b'{\"upsertedCount\":32}'\n",
      "DEBUG:pinecone.core.openapi.shared.rest:response body: b'{\"upsertedCount\":32}'\n",
      "DEBUG:pinecone.core.openapi.shared.rest:response body: b'{\"upsertedCount\":8}'\n",
      "DEBUG:pinecone.core.openapi.shared.rest:response body: b'{\"upsertedCount\":32}'\n",
      "DEBUG:pinecone.core.openapi.shared.rest:response body: b'{\"upsertedCount\":32}'\n",
      "DEBUG:pinecone.core.openapi.shared.rest:response body: b'{\"upsertedCount\":32}'\n",
      "DEBUG:pinecone.core.openapi.shared.rest:response body: b'{\"upsertedCount\":32}'\n",
      "DEBUG:pinecone.core.openapi.shared.rest:response body: b'{\"upsertedCount\":32}'\n",
      "DEBUG:pinecone.core.openapi.shared.rest:response body: b'{\"upsertedCount\":32}'\n",
      "DEBUG:pinecone.core.openapi.shared.rest:response body: b'{\"upsertedCount\":32}'\n",
      "DEBUG:pinecone.core.openapi.shared.rest:response body: b'{\"upsertedCount\":32}'\n",
      "DEBUG:pinecone.core.openapi.shared.rest:response body: b'{\"upsertedCount\":32}'\n",
      "DEBUG:pinecone.core.openapi.shared.rest:response body: b'{\"upsertedCount\":32}'\n",
      "DEBUG:pinecone.core.openapi.shared.rest:response body: b'{\"upsertedCount\":32}'\n",
      "DEBUG:pinecone.core.openapi.shared.rest:response body: b'{\"upsertedCount\":32}'\n",
      "DEBUG:pinecone.core.openapi.shared.rest:response body: b'{\"upsertedCount\":32}'\n",
      "DEBUG:pinecone.core.openapi.shared.rest:response body: b'{\"upsertedCount\":32}'\n",
      "DEBUG:pinecone.core.openapi.shared.rest:response body: b'{\"upsertedCount\":32}'\n",
      "DEBUG:pinecone.core.openapi.shared.rest:response body: b'{\"upsertedCount\":32}'\n",
      "DEBUG:pinecone.core.openapi.shared.rest:response body: b'{\"upsertedCount\":32}'\n",
      "DEBUG:pinecone.core.openapi.shared.rest:response body: b'{\"upsertedCount\":32}'\n",
      "DEBUG:pinecone.core.openapi.shared.rest:response body: b'{\"upsertedCount\":32}'\n",
      "DEBUG:pinecone.core.openapi.shared.rest:response body: b'{\"upsertedCount\":32}'\n",
      "DEBUG:pinecone.core.openapi.shared.rest:response body: b'{\"upsertedCount\":32}'\n",
      "DEBUG:pinecone.core.openapi.shared.rest:response body: b'{\"upsertedCount\":32}'\n",
      "DEBUG:pinecone.core.openapi.shared.rest:response body: b'{\"upsertedCount\":32}'\n",
      "DEBUG:pinecone.core.openapi.shared.rest:response body: b'{\"upsertedCount\":32}'\n",
      "DEBUG:pinecone.core.openapi.shared.rest:response body: b'{\"upsertedCount\":32}'\n",
      "DEBUG:pinecone.core.openapi.shared.rest:response body: b'{\"upsertedCount\":32}'\n",
      "DEBUG:pinecone.core.openapi.shared.rest:response body: b'{\"upsertedCount\":32}'\n",
      "DEBUG:pinecone.core.openapi.shared.rest:response body: b'{\"upsertedCount\":32}'\n",
      "DEBUG:pinecone.core.openapi.shared.rest:response body: b'{\"upsertedCount\":32}'\n",
      "DEBUG:pinecone.core.openapi.shared.rest:response body: b'{\"upsertedCount\":10}'\n",
      "DEBUG:pinecone.core.openapi.shared.rest:response body: b'{\"upsertedCount\":32}'\n",
      "DEBUG:pinecone.core.openapi.shared.rest:response body: b'{\"upsertedCount\":32}'\n"
     ]
    }
   ],
   "source": [
    "from langchain.vectorstores import Pinecone\n",
    "docsearch = Pinecone.from_documents(\n",
    "    documents=text_chunks,\n",
    "    index_name=index_name,\n",
    "    embedding=embeddings\n",
    ")\n"
   ]
  },
  {
   "cell_type": "code",
   "execution_count": 382,
   "metadata": {},
   "outputs": [
    {
     "name": "stderr",
     "output_type": "stream",
     "text": [
      "INFO:pinecone_plugin_interface.logging:Discovering subpackages in _NamespacePath(['c:\\\\Users\\\\Daniel\\\\anaconda3\\\\envs\\\\medicalbot\\\\lib\\\\site-packages\\\\pinecone_plugins'])\n",
      "INFO:pinecone_plugin_interface.logging:Looking for plugins in pinecone_plugins.inference\n",
      "INFO:pinecone_plugin_interface.logging:Installing plugin inference into Pinecone\n",
      "DEBUG:pinecone.core.openapi.shared.rest:response body: b'{\"indexes\":[{\"name\":\"medicalchatbot2\",\"metric\":\"cosine\",\"dimension\":384,\"status\":{\"ready\":true,\"state\":\"Ready\"},\"host\":\"medicalchatbot2-7hvbgxn.svc.aped-4627-b74a.pinecone.io\",\"spec\":{\"serverless\":{\"region\":\"us-east-1\",\"cloud\":\"aws\"}},\"deletion_protection\":\"disabled\"}]}'\n",
      "INFO:pinecone_plugin_interface.logging:Discovering subpackages in _NamespacePath(['c:\\\\Users\\\\Daniel\\\\anaconda3\\\\envs\\\\medicalbot\\\\lib\\\\site-packages\\\\pinecone_plugins'])\n",
      "INFO:pinecone_plugin_interface.logging:Looking for plugins in pinecone_plugins.inference\n"
     ]
    }
   ],
   "source": [
    "from langchain.vectorstores import Pinecone\n",
    "docsearch = Pinecone.from_existing_index(\n",
    "    index_name=index_name,\n",
    "    embedding=embeddings\n",
    ")\n"
   ]
  },
  {
   "cell_type": "code",
   "execution_count": 384,
   "metadata": {},
   "outputs": [
    {
     "data": {
      "text/plain": [
       "<langchain_community.vectorstores.pinecone.Pinecone at 0x16e6556d660>"
      ]
     },
     "execution_count": 384,
     "metadata": {},
     "output_type": "execute_result"
    }
   ],
   "source": [
    "docsearch"
   ]
  },
  {
   "cell_type": "code",
   "execution_count": 385,
   "metadata": {},
   "outputs": [],
   "source": [
    "retriever =docsearch.as_retriever(search_type=\"similarity\", search_kwargs={\"k\":3})"
   ]
  },
  {
   "cell_type": "code",
   "execution_count": 386,
   "metadata": {},
   "outputs": [
    {
     "name": "stderr",
     "output_type": "stream",
     "text": [
      "DEBUG:pinecone.core.openapi.shared.rest:response body: b'{\"results\":[],\"matches\":[{\"id\":\"519e4719-d199-4c92-9298-a326223f500f\",\"score\":0.445571691,\"values\":[],\"metadata\":{\"page\":425,\"source\":\"Data\\\\\\\\Medical_book.pdf\",\"text\":\"Corticosteriod\\xe2\\x80\\x94A group of synthetic hormones\\\\nthat are used to prevent or reduce inflammation.\\\\nToxic effects may result from rapid withdrawal after\\\\nprolonged use or from continued use of large doses.\\\\nPatch test\\xe2\\x80\\x94A skin test that is done to identify aller-\\\\ngens. A suspected substance is applied to the skin.\\\\nAfter 24\\xe2\\x80\\x9348 hours, if the area is red and swollen,\\\\nthe test is positive for that substance. If no reaction\\\\noccurs, another substance is applied. This is con-\"}},{\"id\":\"aa8afec4-4a81-4162-a39a-25a1b8076326\",\"score\":0.441253841,\"values\":[],\"metadata\":{\"page\":298,\"source\":\"Data\\\\\\\\Medical_book.pdf\",\"text\":\"Corticosteroids\\xe2\\x80\\x94A group of anti-inflammatory\\\\nsubstances often used to treat skin conditions.\\\\nImmune response\\xe2\\x80\\x94The protective reaction by the\\\\nimmune system against foreign antigens (sub-\\\\nstances that the body perceives as potentially dan-\\\\ngerous). The immune system combats disease by\\\\nneutralizing or destroying antigens.\\\\ncontact dermatitis becomes a chronic and disabling con-\\\\ndition that can have a profound effect on employability\\\\nand quality of life.\\\\nPrevention\"}},{\"id\":\"d21bc12a-e8cb-48a3-ae1a-3bf86f1c814f\",\"score\":0.43803516,\"values\":[],\"metadata\":{\"page\":423,\"source\":\"Data\\\\\\\\Medical_book.pdf\",\"text\":\"thing that irritates the skin and is manifested by one or\\\\nmore lines of red, swollen, blistered skin that may itch or\\\\nGALE ENCYCLOPEDIA OF MEDICINE 21036\\\\nDermatitis\"}}],\"namespace\":\"\",\"usage\":{\"readUnits\":6}}'\n"
     ]
    }
   ],
   "source": [
    "retrieved_docs =retriever.invoke(\"what is Acne?\")\n"
   ]
  },
  {
   "cell_type": "code",
   "execution_count": 387,
   "metadata": {},
   "outputs": [
    {
     "data": {
      "text/plain": [
       "[Document(metadata={'page': 425.0, 'source': 'Data\\\\Medical_book.pdf'}, page_content='Corticosteriod—A group of synthetic hormones\\nthat are used to prevent or reduce inflammation.\\nToxic effects may result from rapid withdrawal after\\nprolonged use or from continued use of large doses.\\nPatch test—A skin test that is done to identify aller-\\ngens. A suspected substance is applied to the skin.\\nAfter 24–48 hours, if the area is red and swollen,\\nthe test is positive for that substance. If no reaction\\noccurs, another substance is applied. This is con-'),\n",
       " Document(metadata={'page': 298.0, 'source': 'Data\\\\Medical_book.pdf'}, page_content='Corticosteroids—A group of anti-inflammatory\\nsubstances often used to treat skin conditions.\\nImmune response—The protective reaction by the\\nimmune system against foreign antigens (sub-\\nstances that the body perceives as potentially dan-\\ngerous). The immune system combats disease by\\nneutralizing or destroying antigens.\\ncontact dermatitis becomes a chronic and disabling con-\\ndition that can have a profound effect on employability\\nand quality of life.\\nPrevention'),\n",
       " Document(metadata={'page': 423.0, 'source': 'Data\\\\Medical_book.pdf'}, page_content='thing that irritates the skin and is manifested by one or\\nmore lines of red, swollen, blistered skin that may itch or\\nGALE ENCYCLOPEDIA OF MEDICINE 21036\\nDermatitis')]"
      ]
     },
     "execution_count": 387,
     "metadata": {},
     "output_type": "execute_result"
    }
   ],
   "source": [
    "retrieved_docs"
   ]
  },
  {
   "cell_type": "code",
   "execution_count": 389,
   "metadata": {},
   "outputs": [
    {
     "name": "stderr",
     "output_type": "stream",
     "text": [
      "DEBUG:groq._base_client:Request options: {'method': 'post', 'url': '/openai/v1/chat/completions', 'files': None, 'json_data': {'messages': [{'role': 'user', 'content': 'What is cancer'}], 'model': 'llama3-8b-8192'}}\n",
      "DEBUG:httpcore.connection:close.started\n",
      "DEBUG:httpcore.connection:connect_tcp.started host='api.groq.com' port=443 local_address=None timeout=5.0 socket_options=None\n",
      "DEBUG:httpcore.connection:close.complete\n",
      "DEBUG:groq._base_client:Sending HTTP Request: POST https://api.groq.com/openai/v1/chat/completions\n",
      "DEBUG:httpcore.connection:connect_tcp.complete return_value=<httpcore._backends.sync.SyncStream object at 0x0000016E64F5A0B0>\n",
      "DEBUG:httpcore.connection:start_tls.started ssl_context=<ssl.SSLContext object at 0x0000016E3A108840> server_hostname='api.groq.com' timeout=5.0\n",
      "DEBUG:httpcore.connection:start_tls.complete return_value=<httpcore._backends.sync.SyncStream object at 0x0000016E39FBD870>\n",
      "DEBUG:httpcore.http11:send_request_headers.started request=<Request [b'POST']>\n",
      "DEBUG:httpcore.http11:send_request_headers.complete\n",
      "DEBUG:httpcore.http11:send_request_body.started request=<Request [b'POST']>\n",
      "DEBUG:httpcore.http11:send_request_body.complete\n",
      "DEBUG:httpcore.http11:receive_response_headers.started request=<Request [b'POST']>\n",
      "DEBUG:httpcore.http11:receive_response_headers.complete return_value=(b'HTTP/1.1', 200, b'OK', [(b'Date', b'Tue, 10 Dec 2024 16:54:43 GMT'), (b'Content-Type', b'application/json'), (b'Transfer-Encoding', b'chunked'), (b'Connection', b'keep-alive'), (b'Cache-Control', b'private, max-age=0, no-store, no-cache, must-revalidate'), (b'vary', b'Origin'), (b'x-ratelimit-limit-requests', b'14400'), (b'x-ratelimit-limit-tokens', b'30000'), (b'x-ratelimit-remaining-requests', b'14399'), (b'x-ratelimit-remaining-tokens', b'29992'), (b'x-ratelimit-reset-requests', b'6s'), (b'x-ratelimit-reset-tokens', b'16ms'), (b'x-request-id', b'req_01jerqx526e6arty2bffyfjapa'), (b'via', b'1.1 google'), (b'alt-svc', b'h3=\":443\"; ma=86400'), (b'CF-Cache-Status', b'DYNAMIC'), (b'Set-Cookie', b'__cf_bm=MXTcos7Z_HBCKLjIaD.KtIdeOhNVVH476m6t8LKleak-1733849683-1.0.1.1-xVz.JfjQlFo8VEX6a7v8FytOVCyYHkWB_QyYYO5B2R.TGXyagltXLc7Ow0AQ_QATAp87Ufcc0d_K3F6B5nBfAw; path=/; expires=Tue, 10-Dec-24 17:24:43 GMT; domain=.groq.com; HttpOnly; Secure; SameSite=None'), (b'Server', b'cloudflare'), (b'CF-RAY', b'8efec225df420519-JNB'), (b'Content-Encoding', b'gzip')])\n",
      "INFO:httpx:HTTP Request: POST https://api.groq.com/openai/v1/chat/completions \"HTTP/1.1 200 OK\"\n",
      "DEBUG:httpcore.http11:receive_response_body.started request=<Request [b'POST']>\n",
      "DEBUG:httpcore.http11:receive_response_body.complete\n",
      "DEBUG:httpcore.http11:response_closed.started\n",
      "DEBUG:httpcore.http11:response_closed.complete\n",
      "DEBUG:groq._base_client:HTTP Response: POST https://api.groq.com/openai/v1/chat/completions \"200 OK\" Headers({'date': 'Tue, 10 Dec 2024 16:54:43 GMT', 'content-type': 'application/json', 'transfer-encoding': 'chunked', 'connection': 'keep-alive', 'cache-control': 'private, max-age=0, no-store, no-cache, must-revalidate', 'vary': 'Origin', 'x-ratelimit-limit-requests': '14400', 'x-ratelimit-limit-tokens': '30000', 'x-ratelimit-remaining-requests': '14399', 'x-ratelimit-remaining-tokens': '29992', 'x-ratelimit-reset-requests': '6s', 'x-ratelimit-reset-tokens': '16ms', 'x-request-id': 'req_01jerqx526e6arty2bffyfjapa', 'via': '1.1 google', 'alt-svc': 'h3=\":443\"; ma=86400', 'cf-cache-status': 'DYNAMIC', 'set-cookie': '__cf_bm=MXTcos7Z_HBCKLjIaD.KtIdeOhNVVH476m6t8LKleak-1733849683-1.0.1.1-xVz.JfjQlFo8VEX6a7v8FytOVCyYHkWB_QyYYO5B2R.TGXyagltXLc7Ow0AQ_QATAp87Ufcc0d_K3F6B5nBfAw; path=/; expires=Tue, 10-Dec-24 17:24:43 GMT; domain=.groq.com; HttpOnly; Secure; SameSite=None', 'server': 'cloudflare', 'cf-ray': '8efec225df420519-JNB', 'content-encoding': 'gzip'})\n"
     ]
    },
    {
     "name": "stdout",
     "output_type": "stream",
     "text": [
      "Cancer is a group of diseases characterized by the uncontrolled growth and spread of abnormal cells. If left untreated, these abnormal cells can invade and damage healthy tissues and organs, leading to a range of health problems and even death.\n",
      "\n",
      "Cancer occurs when there is a mutation or change in the DNA of a cell, causing it to grow and multiply uncontrollably. This process is usually triggered by a combination of genetic and environmental factors, such as:\n",
      "\n",
      "1. Genetic mutations: Errors in the genetic code can occur spontaneously or be inherited from parents.\n",
      "2. Genetic predisposition: Certain genes can increase the risk of developing cancer.\n",
      "3. Environmental exposures: Exposure to carcinogens, such as tobacco smoke, radiation, and certain chemicals, can increase the risk of cancer.\n",
      "4. Lifestyle factors: Poor diet, lack of physical activity, and obesity can increase the risk of cancer.\n",
      "\n",
      "When cancer cells grow and multiply, they can form a tumor, which can:\n",
      "\n",
      "1. Remain localized: The tumor grows within the original tissue or organ, but does not spread to other parts of the body.\n",
      "2. Spread to surrounding tissues: Cancer cells invade and damage healthy tissues and organs near the original tumor.\n",
      "3. Metastasize: Cancer cells break away from the original tumor and travel through the bloodstream or lymphatic system to other parts of the body, where they can form new tumors.\n",
      "\n",
      "Cancer can occur in any part of the body, but it most commonly affects the:\n",
      "\n",
      "1. Skin (melanoma)\n",
      "2. Breast (breast cancer)\n",
      "3. Lung (lung cancer)\n",
      "4. Prostate (prostate cancer)\n",
      "5. Colon and rectum (colorectal cancer)\n",
      "6. Lymphatic system (lymphoma)\n",
      "7. Brain (brain cancer)\n",
      "\n",
      "Symptoms of cancer can vary depending on the type and location of the cancer, but common signs and symptoms include:\n",
      "\n",
      "1. Unexplained weight loss\n",
      "2. Fatigue\n",
      "3. Pain or discomfort\n",
      "4. Change in bowel or bladder habits\n",
      "5. Unusual bleeding or discharge\n",
      "6. Lumps or swelling in the body\n",
      "\n",
      "Diagnosis of cancer typically involves a combination of:\n",
      "\n",
      "1. Medical history and physical examination\n",
      "2. Imaging tests (such as X-rays, CT scans, or MRIs)\n",
      "3. Laboratory tests (such as blood tests or biopsy)\n",
      "4. Pathological examination of tissue samples\n",
      "\n",
      "Treatment for cancer usually involves a combination of:\n",
      "\n",
      "1. Surgery: Removing the tumor and surrounding tissue\n",
      "2. Chemotherapy: Using medications to kill cancer cells\n",
      "3. Radiation therapy: Using high-energy rays to kill cancer cells\n",
      "4. Targeted therapy: Using medications to target specific genes or proteins involved in cancer growth\n",
      "5. Immunotherapy: Using the body's immune system to fight cancer\n",
      "6. Hormone therapy: Using medications to reduce hormone levels that can stimulate cancer growth.\n",
      "\n",
      "Early detection and treatment of cancer can improve outcomes and increase survival rates.\n"
     ]
    }
   ],
   "source": [
    "import os\n",
    "\n",
    "from groq import Groq\n",
    "\n",
    "client = Groq(\n",
    "    api_key=os.environ.get(\"GROQ_API_KEY\"),\n",
    ")\n",
    "\n",
    "chat_completion = client.chat.completions.create(\n",
    "    messages=[\n",
    "        {\n",
    "            \"role\": \"user\",\n",
    "            \"content\": \"What is cancer\",\n",
    "        }\n",
    "    ],\n",
    "    model=\"llama3-8b-8192\",\n",
    ")\n",
    "\n",
    "print(chat_completion.choices[0].message.content)"
   ]
  },
  {
   "cell_type": "code",
   "execution_count": 390,
   "metadata": {},
   "outputs": [],
   "source": [
    "from langchain.llms.base import LLM\n",
    "from pydantic import BaseModel\n",
    "from groq import Groq\n",
    "import os\n",
    "\n",
    "class GroqLLM(LLM, BaseModel):  # Inherit from both LLM and BaseModel\n",
    "    model: str = \"llama3-8b-8192\"  # Define as a pydantic field\n",
    "    \n",
    "    # Use __annotations__ to indicate that 'client' is not a pydantic field\n",
    "    client: Groq = None  # This ensures that 'client' is not managed by pydantic\n",
    "\n",
    "    def __init__(self, **kwargs):\n",
    "        super().__init__(**kwargs)  # Ensure BaseModel initialization\n",
    "        # Initialize the Groq client inside __init__\n",
    "        self.client = Groq(\n",
    "            api_key=os.getenv(\"GROQ_API_KEY\"),\n",
    "        )\n",
    "\n",
    "    def _call(self, prompt: str, stop=None):\n",
    "        response = self.client.chat.completions.create(\n",
    "            messages=[{\"role\": \"user\", \"content\": prompt}],\n",
    "            model=self.model,\n",
    "        )\n",
    "        return response.choices[0].message.content\n",
    "\n",
    "    @property\n",
    "    def _llm_type(self):\n",
    "        return \"Groq\"\n",
    "\n",
    "# Initialize the custom LLM\n",
    "llm = GroqLLM()\n",
    "\n",
    "# Proceed with setting up the retrieval and other LangChain components as needed\n"
   ]
  },
  {
   "cell_type": "code",
   "execution_count": 395,
   "metadata": {},
   "outputs": [],
   "source": [
    "from langchain.chains import RetrievalQA\n",
    "from langchain.chains import create_retrieval_chain\n",
    "from langchain.chains.combine_documents import create_stuff_documents_chain\n",
    "from langchain_core.prompts import ChatPromptTemplate\n",
    "\n",
    "system_prompt =(\n",
    "     \"You are an assistant for question-answering tasks. \"\n",
    "    \"Use the following pieces of retrieved context to answer \"\n",
    "    \"the question. If you don't know the answer, say that you \"\n",
    "    \"don't know. Use three sentences maximum and keep the \"\n",
    "    \"answer concise.\"\n",
    "    \"\\n\\n\"\n",
    "    \"{context}\"\n",
    ")\n",
    "\n",
    "prompt = ChatPromptTemplate.from_messages(\n",
    "    [\n",
    "        (\"system\", system_prompt),\n",
    "        (\"human\", \"{input}\"),\n",
    "    ]\n",
    ")\n"
   ]
  },
  {
   "cell_type": "code",
   "execution_count": 396,
   "metadata": {},
   "outputs": [],
   "source": [
    "question_answer_chain = create_stuff_documents_chain(llm,prompt)\n",
    "rag_chain=create_retrieval_chain(retriever,question_answer_chain)\n"
   ]
  },
  {
   "cell_type": "code",
   "execution_count": 397,
   "metadata": {},
   "outputs": [
    {
     "name": "stderr",
     "output_type": "stream",
     "text": [
      "DEBUG:pinecone.core.openapi.shared.rest:response body: b'{\"results\":[],\"matches\":[{\"id\":\"88c0ea11-df04-49ea-938b-c7f893b19a20\",\"score\":0.788967073,\"values\":[],\"metadata\":{\"page\":15,\"source\":\"Data\\\\\\\\Medical_book.pdf\",\"text\":\"CAH see Congenital adrenal hyperplasia\\\\nCaisson disease see Decompression\\\\nsickness\\\\nCalcaneal spurs see Heel spurs\\\\nCalcitonin see Bone disorder drugs\\\\nCalcium carbonate see Antacids\\\\nCalcium channel blockers\\\\nDefinition\\\\nCalcium channel blockers are medicines that slow\\\\nthe movement of calcium into the cells of the heart and\\\\nblood vessels. This, in turn, relaxes blood vessels,\\\\nincreases the supply of oxygen-rich blood to the heart,\\\\nand reduces the heart\\xe2\\x80\\x99s workload.\\\\nPurpose\"}},{\"id\":\"b926b2b4-2547-43dd-b8b7-916422c01281\",\"score\":0.752161801,\"values\":[],\"metadata\":{\"page\":15,\"source\":\"Data\\\\\\\\Medical_book.pdf\",\"text\":\"Purpose\\\\nCalcium channel blockers are used to treat high\\\\nblood pressure, to correct abnormal heart rhythms, and to\\\\nrelieve the type of chest pain called angina pectoris.\\\\nPhysicians also prescribe calcium channel blockers to\\\\ntreat panic attacks and bipolar disorder (manic depres-\\\\nsive illness) and to prevent migraine headache.\\\\nPrecautions\\\\nSeeing a physician regularly while taking calcium\\\\nchannel blockers is important. The physician will check\"}},{\"id\":\"f668765a-6834-4d3e-8482-7bc870269b50\",\"score\":0.666839421,\"values\":[],\"metadata\":{\"page\":16,\"source\":\"Data\\\\\\\\Medical_book.pdf\",\"text\":\"blockers should not take any other prescription or non-\\\\nprescription (over-the-counter) medicines without first\\\\nchecking with the prescribing physician. Substances that\\\\nmay interact with calcium channel blockers include:\\\\n\\xe2\\x80\\xa2 Diuretics (water pills). This type of medicine may\\\\ncause low levels of potassium in the body, which may\\\\nincrease the chance of unwanted effects from some cal-\\\\ncium channel blockers.\\\\n\\xe2\\x80\\xa2 Beta-blockers, such as atenolol (Tenormin), propra-\"}}],\"namespace\":\"\",\"usage\":{\"readUnits\":6}}'\n",
      "DEBUG:groq._base_client:Request options: {'method': 'post', 'url': '/openai/v1/chat/completions', 'files': None, 'json_data': {'messages': [{'role': 'user', 'content': \"System: You are an assistant for question-answering tasks. Use the following pieces of retrieved context to answer the question. If you don't know the answer, say that you don't know. Use three sentences maximum and keep the answer concise.\\n\\nCAH see Congenital adrenal hyperplasia\\nCaisson disease see Decompression\\nsickness\\nCalcaneal spurs see Heel spurs\\nCalcitonin see Bone disorder drugs\\nCalcium carbonate see Antacids\\nCalcium channel blockers\\nDefinition\\nCalcium channel blockers are medicines that slow\\nthe movement of calcium into the cells of the heart and\\nblood vessels. This, in turn, relaxes blood vessels,\\nincreases the supply of oxygen-rich blood to the heart,\\nand reduces the heart’s workload.\\nPurpose\\n\\nPurpose\\nCalcium channel blockers are used to treat high\\nblood pressure, to correct abnormal heart rhythms, and to\\nrelieve the type of chest pain called angina pectoris.\\nPhysicians also prescribe calcium channel blockers to\\ntreat panic attacks and bipolar disorder (manic depres-\\nsive illness) and to prevent migraine headache.\\nPrecautions\\nSeeing a physician regularly while taking calcium\\nchannel blockers is important. The physician will check\\n\\nblockers should not take any other prescription or non-\\nprescription (over-the-counter) medicines without first\\nchecking with the prescribing physician. Substances that\\nmay interact with calcium channel blockers include:\\n• Diuretics (water pills). This type of medicine may\\ncause low levels of potassium in the body, which may\\nincrease the chance of unwanted effects from some cal-\\ncium channel blockers.\\n• Beta-blockers, such as atenolol (Tenormin), propra-\\nHuman:  What are Calcium channel blocker?\"}], 'model': 'llama3-8b-8192'}}\n",
      "DEBUG:groq._base_client:Sending HTTP Request: POST https://api.groq.com/openai/v1/chat/completions\n",
      "DEBUG:httpcore.connection:connect_tcp.started host='api.groq.com' port=443 local_address=None timeout=5.0 socket_options=None\n",
      "DEBUG:httpcore.connection:connect_tcp.complete return_value=<httpcore._backends.sync.SyncStream object at 0x0000016E6574FBB0>\n",
      "DEBUG:httpcore.connection:start_tls.started ssl_context=<ssl.SSLContext object at 0x0000016E3A118B40> server_hostname='api.groq.com' timeout=5.0\n",
      "DEBUG:httpcore.connection:start_tls.complete return_value=<httpcore._backends.sync.SyncStream object at 0x0000016E6C060790>\n",
      "DEBUG:httpcore.http11:send_request_headers.started request=<Request [b'POST']>\n",
      "DEBUG:httpcore.http11:send_request_headers.complete\n",
      "DEBUG:httpcore.http11:send_request_body.started request=<Request [b'POST']>\n",
      "DEBUG:httpcore.http11:send_request_body.complete\n",
      "DEBUG:httpcore.http11:receive_response_headers.started request=<Request [b'POST']>\n",
      "DEBUG:httpcore.http11:receive_response_headers.complete return_value=(b'HTTP/1.1', 200, b'OK', [(b'Date', b'Tue, 10 Dec 2024 16:55:12 GMT'), (b'Content-Type', b'application/json'), (b'Transfer-Encoding', b'chunked'), (b'Connection', b'keep-alive'), (b'Cache-Control', b'private, max-age=0, no-store, no-cache, must-revalidate'), (b'vary', b'Origin'), (b'x-ratelimit-limit-requests', b'14400'), (b'x-ratelimit-limit-tokens', b'30000'), (b'x-ratelimit-remaining-requests', b'14399'), (b'x-ratelimit-remaining-tokens', b'29579'), (b'x-ratelimit-reset-requests', b'6s'), (b'x-ratelimit-reset-tokens', b'842ms'), (b'x-request-id', b'req_01jerqy1e0f8esfvx0nm8he7bp'), (b'via', b'1.1 google'), (b'alt-svc', b'h3=\":443\"; ma=86400'), (b'CF-Cache-Status', b'DYNAMIC'), (b'Set-Cookie', b'__cf_bm=VSF.1ySWpOrAT_y2p9rkx6wfftW9YDKqMCtAcse9UNM-1733849712-1.0.1.1-FiHOvr03XSgf7MNa9qvAyLsnYR7DafvBXyM_6gaGqs9lkN6jg_.Ti8n18R_eJdKF7cAzPSlSvMDluevtr11kaQ; path=/; expires=Tue, 10-Dec-24 17:25:12 GMT; domain=.groq.com; HttpOnly; Secure; SameSite=None'), (b'Server', b'cloudflare'), (b'CF-RAY', b'8efec2db3e5e73a0-JNB'), (b'Content-Encoding', b'gzip')])\n",
      "INFO:httpx:HTTP Request: POST https://api.groq.com/openai/v1/chat/completions \"HTTP/1.1 200 OK\"\n",
      "DEBUG:httpcore.http11:receive_response_body.started request=<Request [b'POST']>\n",
      "DEBUG:httpcore.http11:receive_response_body.complete\n",
      "DEBUG:httpcore.http11:response_closed.started\n",
      "DEBUG:httpcore.http11:response_closed.complete\n",
      "DEBUG:groq._base_client:HTTP Response: POST https://api.groq.com/openai/v1/chat/completions \"200 OK\" Headers({'date': 'Tue, 10 Dec 2024 16:55:12 GMT', 'content-type': 'application/json', 'transfer-encoding': 'chunked', 'connection': 'keep-alive', 'cache-control': 'private, max-age=0, no-store, no-cache, must-revalidate', 'vary': 'Origin', 'x-ratelimit-limit-requests': '14400', 'x-ratelimit-limit-tokens': '30000', 'x-ratelimit-remaining-requests': '14399', 'x-ratelimit-remaining-tokens': '29579', 'x-ratelimit-reset-requests': '6s', 'x-ratelimit-reset-tokens': '842ms', 'x-request-id': 'req_01jerqy1e0f8esfvx0nm8he7bp', 'via': '1.1 google', 'alt-svc': 'h3=\":443\"; ma=86400', 'cf-cache-status': 'DYNAMIC', 'set-cookie': '__cf_bm=VSF.1ySWpOrAT_y2p9rkx6wfftW9YDKqMCtAcse9UNM-1733849712-1.0.1.1-FiHOvr03XSgf7MNa9qvAyLsnYR7DafvBXyM_6gaGqs9lkN6jg_.Ti8n18R_eJdKF7cAzPSlSvMDluevtr11kaQ; path=/; expires=Tue, 10-Dec-24 17:25:12 GMT; domain=.groq.com; HttpOnly; Secure; SameSite=None', 'server': 'cloudflare', 'cf-ray': '8efec2db3e5e73a0-JNB', 'content-encoding': 'gzip'})\n"
     ]
    },
    {
     "name": "stdout",
     "output_type": "stream",
     "text": [
      "Calcium channel blockers are medicines that slow the movement of calcium into the cells of the heart and blood vessels, which relaxes blood vessels, increases oxygen-rich blood supply to the heart, and reduces the heart's workload. They are used to treat high blood pressure, abnormal heart rhythms, angina pectoris, panic attacks, bipolar disorder, and prevent migraine headaches.\n"
     ]
    }
   ],
   "source": [
    "response=rag_chain.invoke({\"input\":\" What are Calcium channel blocker?\"})\n",
    "\n",
    "print(response[\"answer\"])"
   ]
  }
 ],
 "metadata": {
  "kernelspec": {
   "display_name": "medicalbot",
   "language": "python",
   "name": "python3"
  },
  "language_info": {
   "codemirror_mode": {
    "name": "ipython",
    "version": 3
   },
   "file_extension": ".py",
   "mimetype": "text/x-python",
   "name": "python",
   "nbconvert_exporter": "python",
   "pygments_lexer": "ipython3",
   "version": "3.10.15"
  }
 },
 "nbformat": 4,
 "nbformat_minor": 2
}
